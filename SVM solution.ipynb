{
 "cells": [
  {
   "cell_type": "code",
   "execution_count": null,
   "metadata": {},
   "outputs": [],
   "source": [
    "import torchvision.transforms as transforms\n",
    "import torch\n",
    "import torch.utils.data as data\n",
    "import numpy as np\n",
    "\n",
    "from trainDataset import TrainDataset\n",
    "from testDataset import TestDataset\n",
    "\n",
    "toFloat = transforms.Lambda(lambda x: x / np.iinfo(np.int16).max)\n",
    "\n",
    "trainDataset = TrainDataset(\"../kaggle-train\", transform=toFloat)\n",
    "print(len(trainDataset))\n",
    "\n",
    "testDataset = TestDataset(\"../kaggle-test\", transform=toFloat)\n",
    "print(len(testDataset))"
   ]
  },
  {
   "cell_type": "code",
   "execution_count": null,
   "metadata": {},
   "outputs": [],
   "source": [
    "from sklearn import svm\n",
    "\n",
    "familyClassifier = svm.SVC()\n",
    "sourceClassifier = svm.SVC()\n",
    "\n",
    "trainLoader = data.DataLoader(trainDataset, batch_size=3200, shuffle=True)\n",
    "for samples, instrument_family_target, instrument_source_target in trainLoader:\n",
    "    familyClassifier.fit(np.array(samples.data)[:, :16000], np.array(instrument_family_target.data))\n",
    "    sourceClassifier.fit(np.array(samples.data)[:, :16000], np.array(instrument_source_target.data))\n",
    "    break"
   ]
  },
  {
   "cell_type": "code",
   "execution_count": null,
   "metadata": {},
   "outputs": [],
   "source": [
    "batch_size = 32\n",
    "testloader = data.DataLoader(testDataset, batch_size=batch_size, shuffle=False)\n",
    "\n",
    "familyPredictions = np.zeros(len(testDataset), dtype=np.int)\n",
    "sourcePredictions = np.zeros(len(testDataset), dtype=np.int)\n",
    "\n",
    "for index, samples in enumerate(testloader):\n",
    "    familyPredictions[index*batch_size:(index+1)*batch_size] = familyClassifier.predict(np.array(samples.data)[:, :16000])\n",
    "    sourcePredictions[index*batch_size:(index+1)*batch_size] = sourceClassifier.predict(np.array(samples.data)[:, :16000])\n"
   ]
  },
  {
   "cell_type": "code",
   "execution_count": null,
   "metadata": {},
   "outputs": [],
   "source": [
    "import csv\n",
    "\n",
    "familyPredictionStrings = trainDataset.transformInstrumentTargetsToString(familyPredictions.astype(int))\n",
    "sourcePredictionStrings = trainDataset.transformSourcesTargetsToString(sourcePredictions.astype(int))\n",
    "\n",
    "with open('SVM-submission.csv', 'w', newline='') as writeFile:\n",
    "    fieldnames = ['Id', 'Expected']\n",
    "    writer = csv.DictWriter(writeFile, fieldnames=fieldnames, delimiter=',',\n",
    "                            quotechar='|', quoting=csv.QUOTE_MINIMAL)\n",
    "    writer.writeheader()\n",
    "    for index in range(len(testDataset)):\n",
    "        writer.writerow({'Id': index, \n",
    "                         'Expected': familyPredictionStrings[index] + '_' + sourcePredictionStrings[index]})\n"
   ]
  },
  {
   "cell_type": "code",
   "execution_count": null,
   "metadata": {},
   "outputs": [],
   "source": [
    "familyPredictionStrings"
   ]
  },
  {
   "cell_type": "code",
   "execution_count": null,
   "metadata": {},
   "outputs": [],
   "source": [
    "sourcePredictionStrings"
   ]
  },
  {
   "cell_type": "code",
   "execution_count": null,
   "metadata": {},
   "outputs": [],
   "source": []
  }
 ],
 "metadata": {
  "kernelspec": {
   "display_name": "Python 3",
   "language": "python",
   "name": "python3"
  },
  "language_info": {
   "codemirror_mode": {
    "name": "ipython",
    "version": 3
   },
   "file_extension": ".py",
   "mimetype": "text/x-python",
   "name": "python",
   "nbconvert_exporter": "python",
   "pygments_lexer": "ipython3",
   "version": "3.5.3"
  }
 },
 "nbformat": 4,
 "nbformat_minor": 2
}
